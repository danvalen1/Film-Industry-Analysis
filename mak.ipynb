{
 "cells": [
  {
   "cell_type": "markdown",
   "metadata": {},
   "source": [
    "# Exploratory Notebook"
   ]
  },
  {
   "cell_type": "markdown",
   "metadata": {},
   "source": [
    "### Exploring the Data"
   ]
  },
  {
   "cell_type": "markdown",
   "metadata": {},
   "source": [
    "importing pandas with its alias pd"
   ]
  },
  {
   "cell_type": "code",
   "execution_count": 1,
   "metadata": {},
   "outputs": [
    {
     "ename": "SyntaxError",
     "evalue": "invalid syntax (CustomLibrary.py, line 382)",
     "output_type": "error",
     "traceback": [
      "\u001b[0;36m  File \u001b[0;32m\"/Users/malcolmkatzenbach/Documents/Flatiron/phase_1/phase_1_project/Film-Industry-Analysis/CustomLibrary.py\"\u001b[0;36m, line \u001b[0;32m382\u001b[0m\n\u001b[0;31m    def create_genre_dfs (DataFrame)\u001b[0m\n\u001b[0m                                    ^\u001b[0m\n\u001b[0;31mSyntaxError\u001b[0m\u001b[0;31m:\u001b[0m invalid syntax\n"
     ]
    }
   ],
   "source": [
    "import pandas as pd\n",
    "import CustomLibrary as cl\n",
    "import matplotlib.pyplot as plt\n",
    "import matplotlib.ticker as mtick\n",
    "%matplotlib inline\n",
    "import seaborn as sns"
   ]
  },
  {
   "cell_type": "markdown",
   "metadata": {},
   "source": [
    "Unzipping the zipped data files (all at once)"
   ]
  },
  {
   "cell_type": "code",
   "execution_count": null,
   "metadata": {},
   "outputs": [],
   "source": [
    "#!find . -name '*.tsv.gz' -exec gzip -d {} \\;"
   ]
  },
  {
   "cell_type": "markdown",
   "metadata": {},
   "source": [
    "Reading in all the data files to understand which ones will help answer our business questions. Checking the files with .head() and .tail() methods to view a section of the data. The .shape method will help tell how many rows we have in each data set. The .info() method will help discover the dtypes of the columns and possible missing values."
   ]
  },
  {
   "cell_type": "code",
   "execution_count": null,
   "metadata": {},
   "outputs": [],
   "source": [
    "df0= pd.read_csv('./data/zippedData/imdb.name.basics.csv')\n",
    "df0.head()\n",
    "#df0.shape"
   ]
  },
  {
   "cell_type": "code",
   "execution_count": null,
   "metadata": {},
   "outputs": [],
   "source": [
    "df1= pd.read_csv('./data/zippedData/bom.movie_gross.csv')\n",
    "df1.head()"
   ]
  },
  {
   "cell_type": "code",
   "execution_count": null,
   "metadata": {},
   "outputs": [],
   "source": [
    "df2= pd.read_csv('./data/zippedData/imdb.title.akas.csv')\n",
    "df2.head()"
   ]
  },
  {
   "cell_type": "markdown",
   "metadata": {},
   "source": [
    "The dataset below gives us important information about the movies. Important columns: primary_title, start_year, and genres."
   ]
  },
  {
   "cell_type": "code",
   "execution_count": null,
   "metadata": {},
   "outputs": [],
   "source": [
    "df3= pd.read_csv('./data/zippedData/imdb.title.basics.csv')\n",
    "df3.head()\n",
    "df_title_movie = df3.rename(columns = {'primary_title':'movie'})\n",
    "df_title_movie.head()"
   ]
  },
  {
   "cell_type": "markdown",
   "metadata": {},
   "source": [
    "Changed the primary_title to 'movie' so that the merge with the next important data set goes smoothly. "
   ]
  },
  {
   "cell_type": "code",
   "execution_count": null,
   "metadata": {},
   "outputs": [],
   "source": [
    "df_title_movie.describe()"
   ]
  },
  {
   "cell_type": "code",
   "execution_count": null,
   "metadata": {},
   "outputs": [],
   "source": [
    "df4= pd.read_csv('./data/zippedData/imdb.title.crew.csv')\n",
    "df4.head()"
   ]
  },
  {
   "cell_type": "code",
   "execution_count": null,
   "metadata": {},
   "outputs": [],
   "source": [
    "df5= pd.read_csv('./data/zippedData/imdb.title.principals.csv')\n",
    "df5.head()"
   ]
  },
  {
   "cell_type": "code",
   "execution_count": null,
   "metadata": {},
   "outputs": [],
   "source": [
    "df6= pd.read_csv('./data/zippedData/imdb.title.ratings.csv')\n",
    "df6.head()"
   ]
  },
  {
   "cell_type": "code",
   "execution_count": null,
   "metadata": {},
   "outputs": [],
   "source": [
    "df7= pd.read_csv('./data/zippedData/tmdb.movies.csv')\n",
    "df7.head()"
   ]
  },
  {
   "cell_type": "markdown",
   "metadata": {},
   "source": [
    "Found the next file to be one of the important files to gain an understanding of the costs and profits of different movies."
   ]
  },
  {
   "cell_type": "code",
   "execution_count": null,
   "metadata": {},
   "outputs": [],
   "source": [
    "df8= pd.read_csv('./data/zippedData/tn.movie_budgets.csv')\n",
    "df8['start_year']= [int(x[-4:]) for x in df8['release_date']]\n",
    "df8.head()\n",
    "#df8.loc[df8['domestic_gross'] == '$0']"
   ]
  },
  {
   "cell_type": "markdown",
   "metadata": {},
   "source": [
    "Created a new column called start_year that creates a year integer from the string from release_date. This is another qualifier for merging this dataset and the one chosen from above."
   ]
  },
  {
   "cell_type": "markdown",
   "metadata": {},
   "source": [
    "### Prepping Data"
   ]
  },
  {
   "cell_type": "code",
   "execution_count": null,
   "metadata": {},
   "outputs": [],
   "source": [
    "def prep_Data(DataFrame1, DataFrame2):\n",
    "    # We first need to match the column names for the movie titles to be able to join the two dataframes\n",
    "    df_title_movie = DataFrame1.rename(columns = {'primary_title':'movie'})\n",
    "    \n",
    "    # Second: create a colum for start year as an integer type. This allows us join the dataframes by\n",
    "    # the year of production so that we don't have errors with possible remakes.\n",
    "    DataFrame2['start_year']= [int(x[-4:]) for x in DataFrame2['release_date']]\n",
    "    \n",
    "    # Third: merge the datasets on 'movie' and 'start_year'\n",
    "    df_budget_merge = pd.merge(DataFrame2, df_title_movie, how ='inner', on = ('movie', 'start_year'))\n",
    "    \n",
    "    "
   ]
  },
  {
   "cell_type": "markdown",
   "metadata": {},
   "source": [
    "### Cleaning the Data"
   ]
  },
  {
   "cell_type": "markdown",
   "metadata": {},
   "source": [
    "First, merging the datasets so that we have all the information we need in one dataframe.\n",
    "    The 'inner' join is chosen because each dataset has important data for the analysis. Not having both sides of the dataset makes the row useless in our chosen analysis. The merge is on 'movie' and 'start_year' to make sure that duplicates are at a minimum from having movies with the same name, but different release years.\n",
    "    We also check for duplicates and drop the rows from our merged dataset."
   ]
  },
  {
   "cell_type": "code",
   "execution_count": null,
   "metadata": {},
   "outputs": [],
   "source": [
    "df_budget_merge = pd.merge(df8, df_title_movie, how ='inner', on = ('movie', 'start_year'))\n",
    "df_duplicates = df_budget_merge[df_budget_merge['movie'].duplicated()]\n",
    "#df_budget_merge.loc[df_budget_merge['domestic_gross'] == '$0'].head()\n",
    "df_budget_merge.drop(df_duplicates.index, axis = 0, inplace = True)\n",
    "#df_budget_merge.head()"
   ]
  },
  {
   "cell_type": "markdown",
   "metadata": {},
   "source": [
    "We next check for missing values. We use worlwide_gross as a check to see if any data necessary for profit calculation is missing. If it is, we drop the row because filling the missing values would throw off our analysis and it does not account for more recently, stream only movies like from Netflix. We want to check only movies from the box office."
   ]
  },
  {
   "cell_type": "code",
   "execution_count": null,
   "metadata": {
    "scrolled": true
   },
   "outputs": [],
   "source": [
    "df_no_values = df_budget_merge.loc[df_budget_merge['worldwide_gross'] == '$0']\n",
    "df_budget_merge.drop(df_no_values.index, axis = 0, inplace = True)"
   ]
  },
  {
   "cell_type": "markdown",
   "metadata": {},
   "source": [
    "Below is a function to change any string numbers into integers so we can use them for stats calculation."
   ]
  },
  {
   "cell_type": "code",
   "execution_count": null,
   "metadata": {},
   "outputs": [],
   "source": [
    "def clean_dollars(dataframe, column_str):\n",
    "    dataframe[column_str] = dataframe[column_str].str.replace(',', '').str.replace('$', '').astype(int)\n",
    "    return dataframe\n",
    "\n",
    "clean_dollars(df_budget_merge, 'production_budget')\n",
    "clean_dollars(df_budget_merge, 'domestic_gross')\n",
    "clean_dollars(df_budget_merge, 'worldwide_gross')\n",
    "df_budget_merge.info()"
   ]
  },
  {
   "cell_type": "markdown",
   "metadata": {},
   "source": [
    "Next we create an advertisement column to add another important cost to producing a movie. Due to not having the data, we chose to follow the heuristic that advertisement budgets will generally be equal to production budgets. With the costs, we create a profit column from the differnce between the worldwide_gross column and the production_budget and advertisement_budget columns."
   ]
  },
  {
   "cell_type": "code",
   "execution_count": null,
   "metadata": {},
   "outputs": [],
   "source": [
    "df_budget_merge['advertisement_budget'] = df_budget_merge['production_budget']\n",
    "df_budget_merge['profit'] = df_budget_merge['worldwide_gross'] - df_budget_merge['production_budget'] - df_budget_merge['advertisement_budget']\n",
    "df_budget_merge.head(20)"
   ]
  },
  {
   "cell_type": "markdown",
   "metadata": {},
   "source": [
    "We decide to sort the dataset by the profit values, with greatest profit being at the top."
   ]
  },
  {
   "cell_type": "code",
   "execution_count": null,
   "metadata": {},
   "outputs": [],
   "source": [
    "df_budget_merge.sort_values(by = ['profit'], axis = 0, ascending = False, inplace = True)"
   ]
  },
  {
   "cell_type": "code",
   "execution_count": null,
   "metadata": {},
   "outputs": [],
   "source": [
    "def clean_Data(DataFrame):\n",
    "    # Find any duplicates in the dataframe\n",
    "    df_duplicates = DataFrame[DataFrame['movie'].duplicated()]\n",
    "    \n",
    "    # Drop the duplicates from the dataframe\n",
    "    DataFrame.drop(df_duplicates.index, axis = 0, inplace = True)\n",
    "    \n",
    "    # Check for placeholder values by finding where worldwide_gross = '$0'\n",
    "    df_no_values = DataFrame.loc[DataFrame['worldwide_gross'] == '$0']\n",
    "    \n",
    "    # Drop the placeholder values from the dataframe\n",
    "    DataFrame.drop(df_no_values.index, axis = 0, inplace = True)\n",
    "    \n",
    "    # Change the number values represented by dtype String with dtype integers. Use clean_dollars function\n",
    "    clean_dollars(DataFrame, 'production_budget')\n",
    "    clean_dollars(DataFrame, 'domestic_gross')\n",
    "    clean_dollars(DataFrame, 'worldwide_gross')\n",
    "    \n",
    "    # Create a new column for advertisement budget by using the production_budget column\n",
    "    # Uses assumption that advertisement costs will generally cost the same as production\n",
    "    DataFrame['advertisement_budget'] = DataFrame['production_budget']\n",
    "    \n",
    "    # Create a total costs column by adding the advertisement budget and the production budget\n",
    "    df_budget_merge['total_costs'] = df_budget_merge['production_budget'] + df_budget_merge['advertisement_budget']\n",
    "    \n",
    "    # Create a profit column by taking the difference between the 'worldwide_gross' and 'total_costs' column\n",
    "    DataFrame['profit'] = DataFrame['worldwide_gross'] - DataFrame['total_costs']\n",
    "    \n",
    "    # Sort the values by 'profit'\n",
    "    DataFrame.sort_values(by = ['profit'], axis = 0, ascending = False, inplace = True)\n",
    "    \n",
    "    # Create a Return on Investment (ROI) percentage column by dividing profit and total costs multiplied by 100\n",
    "    DataFrame['ROI'] = DataFrame['profit'] / DataFrame('total_costs') * 100\n",
    "    \n",
    "    # Seperate the different genres by using the indicator_str_parser function\n",
    "    indicator_str_parser(df_budget_merge, \n",
    "                         'genres', \n",
    "                         ['Action', 'Adventure', 'Comedy', 'Drama', 'Family', 'Thriller', 'Documentary']\n",
    "                        )\n",
    "    \n",
    "    # Create a budget category for low, mid, and high budgets based on the total_costs column\n",
    "    DataFrame['budget_category'] = DataFrame['total_costs'].apply(lambda x: \n",
    "                                                                  'low' if x < 25000000 \n",
    "                                                                  else \n",
    "                                                                  ('mid' if x < 100000000 \n",
    "                                                                   else 'high' ))\n",
    "    "
   ]
  },
  {
   "cell_type": "markdown",
   "metadata": {},
   "source": [
    "### Using Genres"
   ]
  },
  {
   "cell_type": "markdown",
   "metadata": {},
   "source": [
    "Next we check what type of genres are in each row."
   ]
  },
  {
   "cell_type": "code",
   "execution_count": null,
   "metadata": {
    "scrolled": false
   },
   "outputs": [],
   "source": [
    "df_budget_merge.genres.value_counts()"
   ]
  },
  {
   "cell_type": "markdown",
   "metadata": {},
   "source": [
    "We decide to use only certain common genres instead of the 214 possible collection of genres."
   ]
  },
  {
   "cell_type": "code",
   "execution_count": null,
   "metadata": {},
   "outputs": [],
   "source": [
    "# df_budget_merge['comedy_id'] = [1 if 'Comedy' in x\n",
    "#                                 else 0 \n",
    "#                                 for x in df_budget_merge['genres']]\n",
    "# df_budget_merge['drama_id'] = [1 if 'Drama' in x\n",
    "#                                 else 0 \n",
    "#                                 for x in df_budget_merge['genres']]\n",
    "# df_budget_merge['action_id'] = [1 if 'Action' in x\n",
    "#                                 else 0 \n",
    "#                                 for x in df_budget_merge['genres']]\n",
    "# df_budget_merge.head()"
   ]
  },
  {
   "cell_type": "markdown",
   "metadata": {},
   "source": [
    "We create a column to have a better understanding of the genres in each movie."
   ]
  },
  {
   "cell_type": "code",
   "execution_count": null,
   "metadata": {},
   "outputs": [],
   "source": [
    "#df_budget_merge['genre_tuple'] = list(zip(df_budget_merge['comedy_id'], df_budget_merge['drama_id'], df_budget_merge['action_id']))"
   ]
  },
  {
   "cell_type": "code",
   "execution_count": null,
   "metadata": {},
   "outputs": [],
   "source": [
    "cl.indicator_str_parser(df_budget_merge, 'genres', ['Action', 'Adventure', 'Comedy', 'Documentary', 'Drama', 'Family', 'Thriller'])"
   ]
  },
  {
   "cell_type": "markdown",
   "metadata": {},
   "source": [
    "WE next check to see which movies are missing from our previous genre categories."
   ]
  },
  {
   "cell_type": "code",
   "execution_count": null,
   "metadata": {},
   "outputs": [],
   "source": [
    "df_budget_merge.loc[df_budget_merge['genres_tuple'] == (0, 0, 0, 0, 0, 0, 0)]"
   ]
  },
  {
   "cell_type": "code",
   "execution_count": null,
   "metadata": {},
   "outputs": [],
   "source": [
    "df_budget_merge.loc[df_budget_merge['genres_tuple'] == (0, 0, 0, 0, 0, 0, 0)].genres.value_counts()"
   ]
  },
  {
   "cell_type": "code",
   "execution_count": null,
   "metadata": {},
   "outputs": [],
   "source": [
    "df_budget_merge.describe()"
   ]
  },
  {
   "cell_type": "code",
   "execution_count": null,
   "metadata": {},
   "outputs": [],
   "source": [
    "df_budget_merge.info()"
   ]
  },
  {
   "cell_type": "code",
   "execution_count": null,
   "metadata": {},
   "outputs": [],
   "source": [
    "df_budget_merge.genres_tuple.value_counts()"
   ]
  },
  {
   "cell_type": "code",
   "execution_count": null,
   "metadata": {},
   "outputs": [],
   "source": [
    "df_budget_merge['ROI'] = df_budget_merge['profit'] / (df_budget_merge['production_budget'] + df_budget_merge['advertisement_budget']) * 100"
   ]
  },
  {
   "cell_type": "code",
   "execution_count": null,
   "metadata": {},
   "outputs": [],
   "source": [
    "df_budget_merge['total_costs'] = df_budget_merge['production_budget'] + df_budget_merge['advertisement_budget']"
   ]
  },
  {
   "cell_type": "code",
   "execution_count": null,
   "metadata": {},
   "outputs": [],
   "source": [
    "df_budget_merge.loc[df_budget_merge['ROI'] == df_budget_merge['ROI'].max()]"
   ]
  },
  {
   "cell_type": "code",
   "execution_count": null,
   "metadata": {
    "scrolled": true
   },
   "outputs": [],
   "source": [
    "df_budget_merge.describe()"
   ]
  },
  {
   "cell_type": "markdown",
   "metadata": {},
   "source": [
    "## Visualizations"
   ]
  },
  {
   "cell_type": "code",
   "execution_count": null,
   "metadata": {
    "scrolled": true
   },
   "outputs": [],
   "source": [
    "#df_budget_merge['total_costs'].loc[df_budget_merge['total_costs'] < 200000000].hist(bins = 25)\n",
    "#df_budget_merge['total_costs'].hist(bins = 100)\n",
    "df_budget_merge['ROI'].loc[df_budget_merge['ROI'] < 2000].hist(bins = 20)\n",
    "plt.show()"
   ]
  },
  {
   "cell_type": "code",
   "execution_count": null,
   "metadata": {},
   "outputs": [],
   "source": [
    "#df_budget_merge.to_csv('Cleaned_Data.csv')"
   ]
  },
  {
   "cell_type": "code",
   "execution_count": null,
   "metadata": {},
   "outputs": [],
   "source": [
    "df_budget_merge['budget_category'] = df_budget_merge['total_costs'].apply(lambda x: 'low' if x < 25000000 else ('mid' if x < 100000000 else 'high' ))"
   ]
  },
  {
   "cell_type": "code",
   "execution_count": null,
   "metadata": {},
   "outputs": [],
   "source": [
    "df_budget_merge.head()"
   ]
  },
  {
   "cell_type": "code",
   "execution_count": null,
   "metadata": {},
   "outputs": [],
   "source": [
    "df_budget_merge.loc[df_budget_merge['genres_Action_id'] == 1].ROI.median()"
   ]
  },
  {
   "cell_type": "code",
   "execution_count": null,
   "metadata": {},
   "outputs": [],
   "source": [
    "genre_action = df_budget_merge.loc[df_budget_merge['genres_Action_id'] == 1]\n",
    "genre_action['name'] = 'Action'\n",
    "genre_adventure = df_budget_merge.loc[df_budget_merge['genres_Adventure_id'] == 1]\n",
    "genre_adventure['name'] = 'Adventure'\n",
    "genre_comedy = df_budget_merge.loc[df_budget_merge['genres_Comedy_id'] == 1]\n",
    "genre_comedy['name'] = 'Comedy'\n",
    "genre_drama = df_budget_merge.loc[df_budget_merge['genres_Drama_id'] == 1]\n",
    "genre_drama['name'] = 'Drama'\n",
    "genre_family = df_budget_merge.loc[df_budget_merge['genres_Family_id'] == 1]\n",
    "genre_family['name'] = 'Family'\n",
    "genre_thriller = df_budget_merge.loc[df_budget_merge['genres_Thriller_id'] == 1]\n",
    "genre_thriller['name'] = 'Thriller'\n",
    "genre_documentary = df_budget_merge.loc[df_budget_merge['genres_Documentary_id'] == 1]\n",
    "genre_documentary['name'] = 'Documentary'\n",
    "genres = [genre_action, genre_adventure, genre_comedy, genre_drama, genre_family, genre_thriller, genre_documentary]"
   ]
  },
  {
   "cell_type": "code",
   "execution_count": null,
   "metadata": {},
   "outputs": [],
   "source": [
    "\n",
    "plt.scatter(df_budget_merge['total_costs'], df_budget_merge['ROI'])\n",
    "\n",
    "plt.show()"
   ]
  },
  {
   "cell_type": "markdown",
   "metadata": {},
   "source": [
    "### ATTEMPT 1 for Box Plots of Cost vs. ROI: Groupby"
   ]
  },
  {
   "cell_type": "code",
   "execution_count": null,
   "metadata": {},
   "outputs": [],
   "source": [
    "df_budget_merge.groupby('genres_tuple')['total_costs'].mean().plot(kind = 'bar')"
   ]
  },
  {
   "cell_type": "code",
   "execution_count": null,
   "metadata": {},
   "outputs": [],
   "source": [
    "#for x in ['Action', 'Adventure', 'Comedy', 'Drama', 'Family', 'Thriller', 'Documentary']\n",
    "df_budget_merge.groupby('genres_tuple')['ROI'].median().plot(kind = 'bar')"
   ]
  },
  {
   "cell_type": "markdown",
   "metadata": {},
   "source": [
    "### ATTEMPT 2 for Box Plots of Cost vs. ROI\n",
    "#### Seperate Genres into Individual DataFrames"
   ]
  },
  {
   "cell_type": "code",
   "execution_count": null,
   "metadata": {},
   "outputs": [],
   "source": [
    "fig = plt.figure()\n",
    "for genre in genres:\n",
    "    plt.bar(genre['name'], genre['total_costs'].mean())"
   ]
  },
  {
   "cell_type": "code",
   "execution_count": null,
   "metadata": {},
   "outputs": [],
   "source": [
    "fig = plt.figure()\n",
    "for genre in genres:\n",
    "    plt.bar(genre['name'], genre['total_costs'].median())"
   ]
  },
  {
   "cell_type": "code",
   "execution_count": null,
   "metadata": {},
   "outputs": [],
   "source": [
    "fig = plt.figure()\n",
    "for genre in genres:\n",
    "    plt.bar(genre['name'], genre['ROI'].mean())"
   ]
  },
  {
   "cell_type": "code",
   "execution_count": null,
   "metadata": {},
   "outputs": [],
   "source": [
    "fig = plt.figure()\n",
    "for genre in genres:\n",
    "    plt.bar(genre['name'], genre['ROI'].median())"
   ]
  },
  {
   "cell_type": "markdown",
   "metadata": {},
   "source": [
    "### Cleaning Up Attempt 2 Box Plots"
   ]
  },
  {
   "cell_type": "code",
   "execution_count": null,
   "metadata": {},
   "outputs": [],
   "source": [
    "def Genres_DF(df, ls_of_genres):\n",
    "    df_list = []\n",
    "    for genre in ls_of_genres:\n",
    "        'genre_' + genre = df.loc[df['genres_'+ genre +'_id'] == 1]\n",
    "        df_list.append('genre_'+ genre)\n",
    "    return df_list\n",
    "        "
   ]
  },
  {
   "cell_type": "markdown",
   "metadata": {},
   "source": [
    "We want to know how the Rate on Investment changes with genre. Or: How does genre affect the Rate on Investment of Movies? What genres have the best ROI?"
   ]
  },
  {
   "cell_type": "code",
   "execution_count": null,
   "metadata": {
    "scrolled": false
   },
   "outputs": [],
   "source": [
    "\n",
    "sns.set(font_scale = 3, style= 'whitegrid')\n",
    "x1 = ['Action', 'Adventure', 'Comedy', 'Drama', 'Family', 'Thriller', 'Documentary']\n",
    "y1 = []\n",
    "for genre in genres:\n",
    "#     x1.append(genre['name'])\n",
    "    y1.append(genre['ROI'].mean())\n",
    "fig = plt.figure(figsize=(20, 16))\n",
    "ax = sns.barplot(x = x1, y = y1, color = 'blue')\n",
    "ax.set(title = 'Mean Return on Investment by Genre', xlabel = 'Genres', ylabel = 'Return on Investment')\n",
    "ax.set_xticklabels(ax.get_xticklabels(), rotation = 45, horizontalalignment = 'right')\n",
    "ax.yaxis.set_major_formatter(mtick.PercentFormatter())\n",
    "#fig.savefig('Average_Return_on_Investment_by_Genre.png', bbox_inches = 'tight');"
   ]
  },
  {
   "cell_type": "markdown",
   "metadata": {},
   "source": [
    "We see that the top 3 genres for ROI are: Adventure, Thriller, and Comedy. From this we know that the studio should start producing movies in one of these three genres."
   ]
  },
  {
   "cell_type": "markdown",
   "metadata": {},
   "source": [
    "We want to know how much it costs to produce movies of certain genres. What are the cheapest movies to produce by genre?"
   ]
  },
  {
   "cell_type": "code",
   "execution_count": null,
   "metadata": {},
   "outputs": [],
   "source": [
    "sns.set_style('whitegrid')\n",
    "x1 = ['Action', 'Adventure', 'Comedy', 'Drama', 'Family', 'Thriller', 'Documentary']\n",
    "y1 = []\n",
    "for genre in genres:\n",
    "#     x1.append(genre['name'])\n",
    "    y1.append(genre['total_costs'].median())\n",
    "fig = plt.figure(figsize = (20, 16))\n",
    "ax = sns.barplot(x = x1, y = y1, color = 'blue')\n",
    "ax.set(title = 'Median Costs by Genre', xlabel = 'Genres', ylabel = 'Total Costs')\n",
    "ax.set_xticklabels(ax.get_xticklabels(), rotation = 45, horizontalalignment = 'right')\n",
    "fmt = '${x:,.0f}'\n",
    "tick = mtick.StrMethodFormatter(fmt)\n",
    "ax.yaxis.set_major_formatter(tick)\n",
    "#fig.savefig('Median_Costs_by_Genre.png', bbox_inches = 'tight');"
   ]
  },
  {
   "cell_type": "markdown",
   "metadata": {},
   "source": [
    "The cheapest movies to produce are Documentaries, Dramas, and Thrillers. Adventure, Action, and Family movies are the most expensive to produce. Taken in context of the previous graph, we should produce comedies and thrillers for cheapest investment and highest ROI. If the studio is willing to gamble, Adventure would bring in the highest profit. It takes a lot of investment, but is most likely to do well in the box office."
   ]
  },
  {
   "cell_type": "code",
   "execution_count": null,
   "metadata": {},
   "outputs": [],
   "source": [
    "action = df_budget_merge[df_budget_merge['genres_Action_id'] == 1]\n",
    "adventure = df_budget_merge[df_budget_merge['genres_Adventure_id'] == 1]\n",
    "comedy = df_budget_merge[df_budget_merge['genres_Comedy_id'] == 1]\n",
    "family = df_budget_merge[df_budget_merge['genres_Family_id'] == 1]\n",
    "thriller = df_budget_merge[df_budget_merge['genres_Thriller_id'] == 1]\n",
    "documentary = df_budget_merge[df_budget_merge['genres_Documentary_id'] == 1]\n",
    "other = df_budget_merge[df_budget_merge['genres_tuple'] == '(0, 0, 0, 0, 0, 0, 0)']\n",
    "drama = df_budget_merge[df_budget_merge['genres_Drama_id'] == 1]"
   ]
  },
  {
   "cell_type": "code",
   "execution_count": null,
   "metadata": {},
   "outputs": [],
   "source": [
    "fig = plt.figure()\n",
    "ax = sns.barplot(x = x1, y = y1, color = 'blue')"
   ]
  },
  {
   "cell_type": "code",
   "execution_count": null,
   "metadata": {},
   "outputs": [],
   "source": [
    "new_df = pd.DataFrame(columns = ['genre_budget', 'genre', 'ROI', 'budget_category'])\n",
    "new_df"
   ]
  },
  {
   "cell_type": "code",
   "execution_count": null,
   "metadata": {},
   "outputs": [],
   "source": [
    "new_df['ROI'] = [df_budget_merge.loc[(df_budget_merge['genres_Action_id'] == 1) & \n",
    "                                    (df_budget_merge['total_costs'] >= 100000000)].ROI.median(), \n",
    "                df_budget_merge.loc[(df_budget_merge['genres_Action_id'] == 1) & \n",
    "                                    (df_budget_merge['total_costs'] < 100000000) & \n",
    "                                    (df_budget_merge['total_costs'] >= 25000000)].ROI.median(), \n",
    "                df_budget_merge.loc[(df_budget_merge['genres_Action_id'] == 1) & \n",
    "                                    (df_budget_merge['total_costs'] < 25000000)].ROI.median(),\n",
    "                df_budget_merge.loc[(df_budget_merge['genres_Adventure_id'] == 1) & \n",
    "                                    (df_budget_merge['total_costs'] >= 100000000)].ROI.median(), \n",
    "                df_budget_merge.loc[(df_budget_merge['genres_Adventure_id'] == 1) & \n",
    "                                    (df_budget_merge['total_costs'] < 100000000) & \n",
    "                                    (df_budget_merge['total_costs'] >= 25000000)].ROI.median(), \n",
    "                df_budget_merge.loc[(df_budget_merge['genres_Adventure_id'] == 1) & \n",
    "                                    (df_budget_merge['total_costs'] < 25000000)].ROI.median(),\n",
    "                df_budget_merge.loc[(df_budget_merge['genres_Comedy_id'] == 1) & \n",
    "                                    (df_budget_merge['total_costs'] >= 100000000)].ROI.median(), \n",
    "                df_budget_merge.loc[(df_budget_merge['genres_Comedy_id'] == 1) & \n",
    "                                    (df_budget_merge['total_costs'] < 100000000) & \n",
    "                                    (df_budget_merge['total_costs'] >= 25000000)].ROI.median(), \n",
    "                df_budget_merge.loc[(df_budget_merge['genres_Comedy_id'] == 1) & \n",
    "                                    (df_budget_merge['total_costs'] < 25000000)].ROI.median(),\n",
    "                df_budget_merge.loc[(df_budget_merge['genres_Drama_id'] == 1) & \n",
    "                                    (df_budget_merge['total_costs'] >= 100000000)].ROI.median(), \n",
    "                df_budget_merge.loc[(df_budget_merge['genres_Drama_id'] == 1) & \n",
    "                                    (df_budget_merge['total_costs'] < 100000000) & \n",
    "                                    (df_budget_merge['total_costs'] >= 25000000)].ROI.median(), \n",
    "                df_budget_merge.loc[(df_budget_merge['genres_Drama_id'] == 1) & \n",
    "                                    (df_budget_merge['total_costs'] < 25000000)].ROI.median(),\n",
    "                df_budget_merge.loc[(df_budget_merge['genres_Family_id'] == 1) & \n",
    "                                    (df_budget_merge['total_costs'] >= 100000000)].ROI.median(), \n",
    "                df_budget_merge.loc[(df_budget_merge['genres_Family_id'] == 1) & \n",
    "                                    (df_budget_merge['total_costs'] < 100000000) & \n",
    "                                    (df_budget_merge['total_costs'] >= 25000000)].ROI.median(), \n",
    "                df_budget_merge.loc[(df_budget_merge['genres_Family_id'] == 1) & \n",
    "                                    (df_budget_merge['total_costs'] < 25000000)].ROI.median(),\n",
    "                df_budget_merge.loc[(df_budget_merge['genres_Thriller_id'] == 1) & \n",
    "                                    (df_budget_merge['total_costs'] >= 100000000)].ROI.median(), \n",
    "                df_budget_merge.loc[(df_budget_merge['genres_Thriller_id'] == 1) & \n",
    "                                    (df_budget_merge['total_costs'] < 100000000) & \n",
    "                                    (df_budget_merge['total_costs'] >= 25000000)].ROI.median(), \n",
    "                df_budget_merge.loc[(df_budget_merge['genres_Thriller_id'] == 1) & \n",
    "                                    (df_budget_merge['total_costs'] < 25000000)].ROI.median(),\n",
    "                df_budget_merge.loc[(df_budget_merge['genres_Documentary_id'] == 1) & \n",
    "                                    (df_budget_merge['total_costs'] >= 100000000)].ROI.median(), \n",
    "                df_budget_merge.loc[(df_budget_merge['genres_Documentary_id'] == 1) & \n",
    "                                    (df_budget_merge['total_costs'] < 100000000) & \n",
    "                                    (df_budget_merge['total_costs'] >= 25000000)].ROI.median(), \n",
    "                df_budget_merge.loc[(df_budget_merge['genres_Documentary_id'] == 1) & \n",
    "                                    (df_budget_merge['total_costs'] < 25000000)].ROI.median(),\n",
    "                df_budget_merge.loc[(df_budget_merge['genres_not_parsed_id'] == 0) & \n",
    "                                    (df_budget_merge['genres_tuple'] == (0, 0, 0, 0, 0, 0, 0)) & \n",
    "                                    (df_budget_merge['total_costs'] >= 100000000)].ROI.median(), \n",
    "                df_budget_merge.loc[(df_budget_merge['genres_not_parsed_id'] == 0) & \n",
    "                                    (df_budget_merge['genres_tuple'] == (0, 0, 0, 0, 0, 0, 0)) & \n",
    "                                    (df_budget_merge['total_costs'] < 100000000) & \n",
    "                                    (df_budget_merge['total_costs'] >= 25000000)].ROI.median(), \n",
    "                df_budget_merge.loc[(df_budget_merge['genres_not_parsed_id'] == 0) & \n",
    "                                    (df_budget_merge['genres_tuple'] == (0, 0, 0, 0, 0, 0, 0)) & \n",
    "                                    (df_budget_merge['total_costs'] < 25000000)].ROI.median()]\n",
    "new_df['budget_category'] = ['high', 'mid', 'low',\n",
    "                            'high', 'mid', 'low',\n",
    "                            'high', 'mid', 'low',\n",
    "                            'high', 'mid', 'low',\n",
    "                            'high', 'mid', 'low',\n",
    "                            'high', 'mid', 'low',\n",
    "                            'high', 'mid', 'low',\n",
    "                            'high', 'mid', 'low']\n",
    "new_df['genre'] = ['Action', 'Action', 'Action', 'Adventure', 'Adventure', 'Adventure', 'Comedy', 'Comedy', 'Comedy',\n",
    "                  'Drama', 'Drama', 'Drama', 'Family', 'Family', 'Family', 'Thriller', 'Thriller', 'Thriller', \n",
    "                  'Documentary', 'Documentary', 'Documentary', 'Other', 'Other', 'Other']\n",
    "\n"
   ]
  },
  {
   "cell_type": "code",
   "execution_count": null,
   "metadata": {},
   "outputs": [],
   "source": [
    "new_df"
   ]
  },
  {
   "cell_type": "code",
   "execution_count": null,
   "metadata": {},
   "outputs": [],
   "source": [
    "fig = plt.figure(figsize= (20, 16))\n",
    "ax = sns.barplot(data = new_df, x = 'genre', y = 'ROI', hue = 'budget_category', palette=sns.color_palette(['lightblue', 'steelblue', 'royalblue']), hue_order = ['low', 'mid', 'high'])\n",
    "ax.set(title = 'Median ROI for Genre Categorized by Budget Tier', xlabel = 'Genres', ylabel = 'Return on Investment')\n",
    "ax.set_xticklabels(ax.get_xticklabels(), rotation = 45, horizontalalignment = 'right')\n",
    "ax.legend(title = 'Budget Tier')\n",
    "ax.yaxis.set_major_formatter(mtick.PercentFormatter())\n",
    "#fig.savefig('Median_ROI_for_Genre_Categorized_by_Budget_Tier.png', bbox_inches = 'tight');"
   ]
  },
  {
   "cell_type": "code",
   "execution_count": null,
   "metadata": {},
   "outputs": [],
   "source": [
    "fig = plt.figure(figsize= (20, 16))\n",
    "ax = sns.barplot(data = new_df, x = 'ROI', y = 'genre', hue = 'budget_category', palette=sns.color_palette(['lightblue', 'steelblue', 'royalblue']), hue_order = ['low', 'mid', 'high'], orient = 'h')\n",
    "ax.set(title = 'Median ROI for Genre Categorized by Budget Tier', ylabel = 'Genres', xlabel = 'Return on Investment')\n",
    "ax.legend(title = 'Budget Tier')\n",
    "ax.xaxis.set_major_formatter(mtick.PercentFormatter());"
   ]
  },
  {
   "cell_type": "code",
   "execution_count": null,
   "metadata": {},
   "outputs": [],
   "source": [
    "def Low_Budget_Genres(DataFrame):\n",
    "    # Create a list for rows of data\n",
    "    r = []\n",
    "    # Iterate through desired genres\n",
    "    for x in ['Action', 'Adventure', 'Comedy', 'Documentary', 'Drama', 'Family', 'Thriller']:\n",
    "        # Append  a list of [ROI, Genre] as a row to your list of rows. ROI should be for low budget films only\n",
    "        r.append([DataFrame.loc[(DataFrame[f'genres_{x}_id'] == 1) & \n",
    "                                (DataFrame['total_costs'] < 25000000)].ROI.median(), x])\n",
    "    # Create a new DataFrame for your list of rows with columns of Median ROI and Genre\n",
    "    new_dF = pd.DataFrame(r, columns = ('Median ROI', 'Genre'))\n",
    "    # Return your new DataFrame\n",
    "    return new_dF\n",
    "        "
   ]
  },
  {
   "cell_type": "code",
   "execution_count": null,
   "metadata": {},
   "outputs": [],
   "source": [
    "lb_Genres = Low_Budget_Genres(df_budget_merge)\n",
    "lb_Genres"
   ]
  },
  {
   "cell_type": "code",
   "execution_count": null,
   "metadata": {},
   "outputs": [],
   "source": [
    "def Mid_Budget_Genres(DataFrame):\n",
    "    # Create a list for rows of data\n",
    "    r = []\n",
    "    # Iterate through desired genres\n",
    "    for x in ['Action', 'Adventure', 'Comedy', 'Documentary', 'Drama', 'Family', 'Thriller']:\n",
    "        # Append  a list of [ROI, Genre] as a row to your list of rows. ROI should be for mid budget films only\n",
    "        r.append([DataFrame.loc[(DataFrame[f'genres_{x}_id'] == 1) & \n",
    "                                (DataFrame['total_costs'] >= 25000000) & \n",
    "                                (DataFrame['total_costs'] < 100000000)].ROI.median(), x])\n",
    "    # Create a new DataFrame for your list of rows with columns of Median ROI and Genre\n",
    "    new_dF = pd.DataFrame(r, columns = ('Median ROI', 'Genre'))\n",
    "    # Return your new DataFrame\n",
    "    return new_dF\n"
   ]
  },
  {
   "cell_type": "code",
   "execution_count": null,
   "metadata": {},
   "outputs": [],
   "source": [
    "mb_Genres = Mid_Budget_Genres(df_budget_merge)\n",
    "mb_Genres"
   ]
  },
  {
   "cell_type": "code",
   "execution_count": null,
   "metadata": {},
   "outputs": [],
   "source": [
    "def High_Budget_Genres(DataFrame):\n",
    "    # Create a list for rows of data\n",
    "    r = []\n",
    "    # Iterate through desired genres\n",
    "    for x in ['Action', 'Adventure', 'Comedy', 'Documentary', 'Drama', 'Family', 'Thriller']:\n",
    "        # Append  a list of [ROI, Genre] as a row to your list of rows. ROI should be for high budget films only\n",
    "        r.append([DataFrame.loc[(DataFrame[f'genres_{x}_id'] == 1) & \n",
    "                                (DataFrame['total_costs'] > 100000000)].ROI.median(), x])\n",
    "    # Create a new DataFrame for your list of rows with columns of Median ROI and Genre\n",
    "    new_dF = pd.DataFrame(r, columns = ('Median ROI', 'Genre'))\n",
    "    # Return your new DataFrame\n",
    "    return new_dF\n"
   ]
  },
  {
   "cell_type": "code",
   "execution_count": null,
   "metadata": {},
   "outputs": [],
   "source": [
    "hb_Genres = High_Budget_Genres(df_budget_merge)\n",
    "hb_Genres"
   ]
  },
  {
   "cell_type": "code",
   "execution_count": null,
   "metadata": {},
   "outputs": [],
   "source": [
    "def LB_Genres_Graph(DataFrame):\n",
    "    fig = plt.figure(figsize= (20, 16))\n",
    "    ax = sns.barplot(data = DataFrame, x = 'Genre', y = 'Median ROI', color = 'lightblue')\n",
    "    ax.set(title = 'Median ROI for Low Budget Films by Genre', xlabel = 'Genres', ylabel = 'Return on Investment')\n",
    "    ax.set_xticklabels(ax.get_xticklabels(), rotation = 45, horizontalalignment = 'right')\n",
    "    ax.yaxis.set_major_formatter(mtick.PercentFormatter())\n",
    "    #fig.savefig('Median_ROI_for_Low_Budget_Films_by_Genre.png', bbox_inches = 'tight');\n",
    "    return plt.show()"
   ]
  },
  {
   "cell_type": "code",
   "execution_count": null,
   "metadata": {},
   "outputs": [],
   "source": [
    "def MB_Genres_Graph(DataFrame):\n",
    "    fig = plt.figure(figsize= (20, 16))\n",
    "    ax = sns.barplot(data = DataFrame, x = 'Genre', y = 'Median ROI', color = 'steelblue')\n",
    "    ax.set(title = 'Median ROI for Mid Bidget Films by Genre', xlabel = 'Genres', ylabel = 'Return on Investment')\n",
    "    ax.set_xticklabels(ax.get_xticklabels(), rotation = 45, horizontalalignment = 'right')\n",
    "    ax.yaxis.set_major_formatter(mtick.PercentFormatter())\n",
    "    #fig.savefig('Median_ROI_for_Mid_Budget_Films_by_Genre.png', bbox_inches = 'tight');\n",
    "    return plt.show()"
   ]
  },
  {
   "cell_type": "code",
   "execution_count": null,
   "metadata": {},
   "outputs": [],
   "source": [
    "def HB_Genres_Graph(DataFrame):\n",
    "    fig = plt.figure(figsize= (20, 16))\n",
    "    ax = sns.barplot(data = DataFrame, x = 'Genre', y = 'Median ROI', color = 'blue')\n",
    "    ax.set(title = 'Median ROI for High Budget Film by Genre', xlabel = 'Genres', ylabel = 'Return on Investment')\n",
    "    ax.set_xticklabels(ax.get_xticklabels(), rotation = 45, horizontalalignment = 'right')\n",
    "    #fig.savefig('Median_ROI_for_High_Budget_Films_by_Genre.png', bbox_inches = 'tight');\n",
    "    ax.yaxis.set_major_formatter(mtick.PercentFormatter())"
   ]
  },
  {
   "cell_type": "code",
   "execution_count": null,
   "metadata": {},
   "outputs": [],
   "source": [
    "import code.visualizations as viz"
   ]
  },
  {
   "cell_type": "code",
   "execution_count": null,
   "metadata": {},
   "outputs": [],
   "source": [
    "LB_Genres_Graph(lb_Genres)"
   ]
  },
  {
   "cell_type": "code",
   "execution_count": null,
   "metadata": {},
   "outputs": [],
   "source": [
    "MB_Genres_Graph(mb_Genres)"
   ]
  },
  {
   "cell_type": "code",
   "execution_count": null,
   "metadata": {},
   "outputs": [],
   "source": [
    "HB_Genres_Graph(hb_Genres)"
   ]
  },
  {
   "cell_type": "markdown",
   "metadata": {},
   "source": [
    "### Question 4- How does the movie budget affect the ROI by Genre?\n",
    "\n",
    "When trying to find the best genre to produce a movie, it is important to know how each genre does with different budgets. This is done by first making a dataset out of clean dataset with genres and the median ROI. The median ROI was chosen so that any outliers would not affect the graph. To find the right data to put into the dataframe, "
   ]
  },
  {
   "cell_type": "markdown",
   "metadata": {},
   "source": [
    "## Evaluation \n",
    "\n",
    "The overall business problem that was given asked how a new movie studio may be as successful as possible. By looking more deeply into the data on movies from the past 10 years, the analysis has shown what types of genres have done well with certain sized budgets. This successfully has answered the main question in a basic. This analysis is helpful as done, however there are certain areas that could bring more accuracy to the analysis. \n",
    "\n",
    "    -The Advertisement Cost: In the analysis, it was assumed that advertisement budget was equal to the production budget. However, it unlikely that all movies had an equal advertisement and production budget. By using the    exact advertisement budget, it will increase the accuracy of the ROI.\n",
    "    -Inflation: This analysis did not account for inflation. While only over a 10 year period, the inflation would have an effect on the money values of the movies, which would increase the accuracy of the comparison between  movies.\n",
    "    -Time Period of Analysis: As mentioned before, the dataframes were only for movies from the last 10 years.     While useful for immediate future movies, having a longer period of data could increase how robust our analysis is.\n",
    "    -Box Office Only: This data only takes into account of the box office. If Microsoft desired to go into         streaming services and produce movies for the streaming service only, it would be more accurate to include data on streamed movies."
   ]
  },
  {
   "cell_type": "markdown",
   "metadata": {},
   "source": [
    "## Conclusion\n",
    "\n",
    "This analysis brings forward two recommendations:\n",
    "\n",
    "**Produce high budget adventure films-** if the studio has a high production & advertisement budget, adventure films had the highest median ROI for high budgets\n",
    "\n",
    "**Produce low budget thrillers-** if the studio has a low budget, thrillers have the highest possible ROI of any genre"
   ]
  },
  {
   "cell_type": "markdown",
   "metadata": {},
   "source": [
    "## Next Steps\n",
    "\n",
    "**Evaluating personnel that maximize ROI-** By analyzing the personnel of successful movies in genres such as thrillers and adventures, the studio could attempt to hire those that would most likely help produce a movie with a high ROI.\n",
    "\n",
    "**Find accurate advertisement budgets for movies and account for inflation-** By going back into the analysis, the accuracy of the ROIs could be increased.\n",
    "\n",
    "**Constructing Portfolios of Films-** With a budget, a portfolio of films could be maximized for ROI by genre and budget."
   ]
  },
  {
   "cell_type": "code",
   "execution_count": null,
   "metadata": {},
   "outputs": [],
   "source": []
  }
 ],
 "metadata": {
  "kernelspec": {
   "display_name": "learn-env",
   "language": "python",
   "name": "learn-env"
  },
  "language_info": {
   "codemirror_mode": {
    "name": "ipython",
    "version": 3
   },
   "file_extension": ".py",
   "mimetype": "text/x-python",
   "name": "python",
   "nbconvert_exporter": "python",
   "pygments_lexer": "ipython3",
   "version": "3.6.9"
  }
 },
 "nbformat": 4,
 "nbformat_minor": 4
}
