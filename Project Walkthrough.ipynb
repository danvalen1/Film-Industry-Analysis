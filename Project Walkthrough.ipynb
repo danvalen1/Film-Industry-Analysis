{
 "cells": [
  {
   "cell_type": "markdown",
   "metadata": {},
   "source": [
    "# **Analysis of Movie Industry ROIs**\n",
    "## Malcolm Katzenbach, Lauren Phipps, Dan Valenzuela\n",
    "\n",
    "***\n",
    "\n"
   ]
  },
  {
   "cell_type": "code",
   "execution_count": 1,
   "metadata": {
    "jupyter": {
     "source_hidden": true
    }
   },
   "outputs": [],
   "source": [
    "import CustomLibrary as cl\n",
    "\n",
    "cl.import_libs()\n",
    "%matplotlib inline"
   ]
  },
  {
   "cell_type": "markdown",
   "metadata": {},
   "source": [
    "## **Overview** <a id=\"Overview\"></a>"
   ]
  },
  {
   "cell_type": "markdown",
   "metadata": {},
   "source": []
  },
  {
   "cell_type": "markdown",
   "metadata": {},
   "source": [
    "[**1. Business Problem**](#Business-Problem)\n",
    "\n",
    "[**2. Data Understanding**](#Data-Understanding)\n",
    "\n",
    "[**3. Data Preparation**](#Data-Preparation)\n",
    "\n",
    "[**4. Data Analysis**](#Data-Analysis)\n",
    "\n",
    "[**5. Evaluation**](#Evaluation)\n",
    "\n",
    "[**6. Conclusion**](#Conclusion)\n",
    "***"
   ]
  },
  {
   "cell_type": "markdown",
   "metadata": {},
   "source": [
    "## **Business Problem** <a id=\"Business-Understanding\"></a>\n",
    "[*↑ Back to overview*](#Overview)"
   ]
  },
  {
   "cell_type": "markdown",
   "metadata": {},
   "source": []
  },
  {
   "cell_type": "markdown",
   "metadata": {},
   "source": [
    "[*↑ Back to overview*](#Overview)\n",
    "***"
   ]
  },
  {
   "cell_type": "markdown",
   "metadata": {},
   "source": [
    "## **Data Understanding** <a id=\"Data-Understanding\"></a>\n",
    "[*↑ Back to overview*](#Overview)"
   ]
  },
  {
   "cell_type": "markdown",
   "metadata": {},
   "source": [
    "### Datasets\n",
    "For the purposes of this analysis we focused primarily on data from the Internet Movie Database (IMDB) and The-Numbers.com. Specifically we used datasets that included--on one hand--title, date released, and genre data and--on the other hand--title, date released, production budgets, and box office figures. Below is a summary of the data pertinent to our analysis broken down by file. "
   ]
  },
  {
   "cell_type": "markdown",
   "metadata": {},
   "source": [
    "| imdb.title.basics.csv | tn.movie_budgets.csv |\n",
    "| --- | --- |\n",
    "| primary_title | movie |\n",
    "| start_year | release_date |\n",
    "| genres |  |\n",
    "|  | production_budget |\n",
    "|  | domestic_gross |\n",
    "|  | worldwide_gross |\n"
   ]
  },
  {
   "cell_type": "markdown",
   "metadata": {},
   "source": [
    "In this table you can see our understanding of how data between the two datasets can \"match\" in the sense that they provide they same kind of data but may be in different formats. For example, `start_year` in `imdb.title.basics.csv` is  formatted as `YYYY` whereas `release_date` in `tn.movie_budgets.csv` is formatted as `MMM DD, YYYY`. Further, they may be stored as different data types. Release date data across both sets are in "
   ]
  },
  {
   "cell_type": "markdown",
   "metadata": {},
   "source": [
    "[*↑ Back to overview*](#Overview)\n",
    "***"
   ]
  },
  {
   "cell_type": "markdown",
   "metadata": {},
   "source": [
    "## **Data Preparation** <a id=\"Data-Preparation\"></a>\n",
    "[*↑ Back to overview*](#Overview)"
   ]
  },
  {
   "cell_type": "markdown",
   "metadata": {},
   "source": []
  },
  {
   "cell_type": "markdown",
   "metadata": {},
   "source": [
    "[*↑ Back to overview*](#Overview)\n",
    "***"
   ]
  },
  {
   "cell_type": "markdown",
   "metadata": {},
   "source": [
    "## **Data Analysis** <a id=\"Data-Analysis\"></a>\n",
    "[*↑ Back to overview*](#Overview)"
   ]
  },
  {
   "cell_type": "markdown",
   "metadata": {},
   "source": []
  },
  {
   "cell_type": "markdown",
   "metadata": {},
   "source": [
    "[*↑ Back to overview*](#Overview)\n",
    "***"
   ]
  },
  {
   "cell_type": "markdown",
   "metadata": {},
   "source": [
    "## **Evaluation**<a id=\"Evaluation\"></a>\n",
    "[*↑ Back to overview*](#Overview)"
   ]
  },
  {
   "cell_type": "markdown",
   "metadata": {},
   "source": []
  },
  {
   "cell_type": "markdown",
   "metadata": {},
   "source": [
    "[*↑ Back to overview*](#Overview)\n",
    "***"
   ]
  },
  {
   "cell_type": "markdown",
   "metadata": {},
   "source": [
    "## **Conlcusion**<a id=\"Conclusion\"></a>\n",
    "[*↑ Back to overview*](#Overview)"
   ]
  },
  {
   "cell_type": "markdown",
   "metadata": {},
   "source": []
  },
  {
   "cell_type": "markdown",
   "metadata": {},
   "source": [
    "[*↑ Back to overview*](#Overview)\n",
    "***"
   ]
  }
 ],
 "metadata": {
  "kernelspec": {
   "display_name": "learn-env",
   "language": "python",
   "name": "learn-env"
  },
  "language_info": {
   "codemirror_mode": {
    "name": "ipython",
    "version": 3
   },
   "file_extension": ".py",
   "mimetype": "text/x-python",
   "name": "python",
   "nbconvert_exporter": "python",
   "pygments_lexer": "ipython3",
   "version": "3.6.9"
  }
 },
 "nbformat": 4,
 "nbformat_minor": 4
}
